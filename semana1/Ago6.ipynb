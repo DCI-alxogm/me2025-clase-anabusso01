{
  "nbformat": 4,
  "nbformat_minor": 0,
  "metadata": {
    "colab": {
      "provenance": [],
      "authorship_tag": "ABX9TyPwYC+mqyVeIVOFYgQLJqNy",
      "include_colab_link": true
    },
    "kernelspec": {
      "name": "python3",
      "display_name": "Python 3"
    },
    "language_info": {
      "name": "python"
    }
  },
  "cells": [
    {
      "cell_type": "markdown",
      "metadata": {
        "id": "view-in-github",
        "colab_type": "text"
      },
      "source": [
        "<a href=\"https://colab.research.google.com/github/DCI-alxogm/me2025-clase-anabusso01/blob/main/semana1/Ago6.ipynb\" target=\"_parent\"><img src=\"https://colab.research.google.com/assets/colab-badge.svg\" alt=\"Open In Colab\"/></a>"
      ]
    },
    {
      "cell_type": "code",
      "execution_count": null,
      "metadata": {
        "id": "n6WBDb3qXmgk"
      },
      "outputs": [],
      "source": [
        "#Este es mi primer cuaderno de Jupyter"
      ]
    },
    {
      "cell_type": "code",
      "source": [
        "print(\"Prueba de cuaderno\")"
      ],
      "metadata": {
        "id": "Y75xS-c5bj__",
        "outputId": "af6289a2-6695-4a67-f38d-b84d761dacf8",
        "colab": {
          "base_uri": "https://localhost:8080/"
        }
      },
      "execution_count": 1,
      "outputs": [
        {
          "output_type": "stream",
          "name": "stdout",
          "text": [
            "Prueba de cuaderno\n"
          ]
        }
      ]
    }
  ]
}