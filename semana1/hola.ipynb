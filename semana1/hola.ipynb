{
  "nbformat": 4,
  "nbformat_minor": 0,
  "metadata": {
    "colab": {
      "provenance": [],
      "authorship_tag": "ABX9TyMyPF/znr5nUuXd928XeEjy",
      "include_colab_link": true
    },
    "kernelspec": {
      "name": "python3",
      "display_name": "Python 3"
    },
    "language_info": {
      "name": "python"
    }
  },
  "cells": [
    {
      "cell_type": "markdown",
      "metadata": {
        "id": "view-in-github",
        "colab_type": "text"
      },
      "source": [
        "<a href=\"https://colab.research.google.com/github/DCI-alxogm/me2025-clase-anabusso01/blob/main/semana1/hola.ipynb\" target=\"_parent\"><img src=\"https://colab.research.google.com/assets/colab-badge.svg\" alt=\"Open In Colab\"/></a>"
      ]
    },
    {
      "cell_type": "code",
      "execution_count": null,
      "metadata": {
        "id": "mQaefF1hcwra"
      },
      "outputs": [],
      "source": [
        "#prueba 2 de colab"
      ]
    },
    {
      "cell_type": "code",
      "source": [
        "print(\"cola\")"
      ],
      "metadata": {
        "id": "836A6HKBc-Xr",
        "outputId": "297b2f4a-c1da-4856-b38b-43b14da2b920",
        "colab": {
          "base_uri": "https://localhost:8080/"
        }
      },
      "execution_count": 1,
      "outputs": [
        {
          "output_type": "stream",
          "name": "stdout",
          "text": [
            "cola\n"
          ]
        }
      ]
    }
  ]
}